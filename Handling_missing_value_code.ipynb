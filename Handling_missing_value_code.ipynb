{
 "cells": [
  {
   "cell_type": "code",
   "execution_count": 15,
   "metadata": {},
   "outputs": [],
   "source": [
    "import pandas as pd\n",
    "import os\n",
    "from missingpy import MissForest"
   ]
  },
  {
   "cell_type": "code",
   "execution_count": 16,
   "metadata": {},
   "outputs": [
    {
     "data": {
      "text/plain": [
       "'/Users/ankitaagrawal/Documents/MS COURSES/capstone'"
      ]
     },
     "execution_count": 16,
     "metadata": {},
     "output_type": "execute_result"
    }
   ],
   "source": [
    "os.getcwd()"
   ]
  },
  {
   "cell_type": "code",
   "execution_count": 17,
   "metadata": {},
   "outputs": [],
   "source": [
    "#df = pd.read_csv(\"OperMargin_withmissing_1yearshift.csv\")\n",
    "df = pd.read_csv(\"ProfitMargin_withmissing_1yearshift.csv\")\n",
    "#df = pd.read_csv(\"CashFlow_withmissing_1yearshift.csv\")\n",
    "df= df[df.columns[1:]]"
   ]
  },
  {
   "cell_type": "code",
   "execution_count": 18,
   "metadata": {},
   "outputs": [],
   "source": [
    "df = df[~df[\"Date\"].isnull()]"
   ]
  },
  {
   "cell_type": "code",
   "execution_count": 19,
   "metadata": {},
   "outputs": [
    {
     "data": {
      "text/plain": [
       "Date                         False\n",
       "Company                      False\n",
       "PE                            True\n",
       "PCF                           True\n",
       "DIV                           True\n",
       "PB                            True\n",
       "DEBTEQ                        True\n",
       "MKTVAL                        True\n",
       "Unemployment_rate             True\n",
       "CPI                           True\n",
       "GDP CURY Index                True\n",
       "NFIB                          True\n",
       "Financial_Stress_Index        True\n",
       "Consumer_confidence_index     True\n",
       "Jobless_Claims                True\n",
       "ISM_Manufacturing_index       True\n",
       "PM_Target                    False\n",
       "dtype: bool"
      ]
     },
     "execution_count": 19,
     "metadata": {},
     "output_type": "execute_result"
    }
   ],
   "source": [
    "df.isnull().any()"
   ]
  },
  {
   "cell_type": "code",
   "execution_count": 20,
   "metadata": {},
   "outputs": [
    {
     "data": {
      "text/plain": [
       "Index(['Date', 'Company', 'PE', 'PCF', 'DIV', 'PB', 'DEBTEQ', 'MKTVAL',\n",
       "       'Unemployment_rate', 'CPI', 'GDP CURY Index', 'NFIB',\n",
       "       'Financial_Stress_Index', 'Consumer_confidence_index', 'Jobless_Claims',\n",
       "       'ISM_Manufacturing_index', 'PM_Target'],\n",
       "      dtype='object')"
      ]
     },
     "execution_count": 20,
     "metadata": {},
     "output_type": "execute_result"
    }
   ],
   "source": [
    "df.columns"
   ]
  },
  {
   "cell_type": "code",
   "execution_count": 21,
   "metadata": {},
   "outputs": [],
   "source": [
    "col_mis_values = [ 'PE', 'PCF', 'DIV', 'PB', 'DEBTEQ', 'MKTVAL',\n",
    "       'Unemployment_rate', 'CPI', 'GDP CURY Index', 'NFIB',\n",
    "       'Financial_Stress_Index', 'Consumer_confidence_index', 'Jobless_Claims',\n",
    "       'ISM_Manufacturing_index']"
   ]
  },
  {
   "cell_type": "code",
   "execution_count": 22,
   "metadata": {},
   "outputs": [
    {
     "data": {
      "text/html": [
       "<div>\n",
       "<style scoped>\n",
       "    .dataframe tbody tr th:only-of-type {\n",
       "        vertical-align: middle;\n",
       "    }\n",
       "\n",
       "    .dataframe tbody tr th {\n",
       "        vertical-align: top;\n",
       "    }\n",
       "\n",
       "    .dataframe thead th {\n",
       "        text-align: right;\n",
       "    }\n",
       "</style>\n",
       "<table border=\"1\" class=\"dataframe\">\n",
       "  <thead>\n",
       "    <tr style=\"text-align: right;\">\n",
       "      <th></th>\n",
       "      <th>Date</th>\n",
       "      <th>Company</th>\n",
       "      <th>PE</th>\n",
       "      <th>PCF</th>\n",
       "      <th>DIV</th>\n",
       "      <th>PB</th>\n",
       "      <th>DEBTEQ</th>\n",
       "      <th>MKTVAL</th>\n",
       "      <th>Unemployment_rate</th>\n",
       "      <th>CPI</th>\n",
       "      <th>GDP CURY Index</th>\n",
       "      <th>NFIB</th>\n",
       "      <th>Financial_Stress_Index</th>\n",
       "      <th>Consumer_confidence_index</th>\n",
       "      <th>Jobless_Claims</th>\n",
       "      <th>ISM_Manufacturing_index</th>\n",
       "      <th>PM_Target</th>\n",
       "    </tr>\n",
       "  </thead>\n",
       "  <tbody>\n",
       "    <tr>\n",
       "      <td>0</td>\n",
       "      <td>2008-03-31</td>\n",
       "      <td>AA</td>\n",
       "      <td>1.3924</td>\n",
       "      <td>10.1850</td>\n",
       "      <td>2.6414</td>\n",
       "      <td>1.3924</td>\n",
       "      <td>53.7279</td>\n",
       "      <td>46905.2106</td>\n",
       "      <td>5.0</td>\n",
       "      <td>4.0</td>\n",
       "      <td>3.1</td>\n",
       "      <td>90.1</td>\n",
       "      <td>1.239</td>\n",
       "      <td>65.86</td>\n",
       "      <td>387.0</td>\n",
       "      <td>49.7</td>\n",
       "      <td>-11.9846</td>\n",
       "    </tr>\n",
       "    <tr>\n",
       "      <td>1</td>\n",
       "      <td>2008-06-30</td>\n",
       "      <td>AA</td>\n",
       "      <td>1.2993</td>\n",
       "      <td>11.5921</td>\n",
       "      <td>2.3878</td>\n",
       "      <td>1.2993</td>\n",
       "      <td>51.7124</td>\n",
       "      <td>46510.2415</td>\n",
       "      <td>5.3</td>\n",
       "      <td>5.0</td>\n",
       "      <td>2.9</td>\n",
       "      <td>89.7</td>\n",
       "      <td>1.080</td>\n",
       "      <td>50.97</td>\n",
       "      <td>392.0</td>\n",
       "      <td>49.9</td>\n",
       "      <td>-10.6975</td>\n",
       "    </tr>\n",
       "    <tr>\n",
       "      <td>2</td>\n",
       "      <td>2008-09-30</td>\n",
       "      <td>AA</td>\n",
       "      <td>0.8988</td>\n",
       "      <td>10.9805</td>\n",
       "      <td>3.0142</td>\n",
       "      <td>0.8988</td>\n",
       "      <td>67.2353</td>\n",
       "      <td>36279.4609</td>\n",
       "      <td>6.0</td>\n",
       "      <td>4.9</td>\n",
       "      <td>2.1</td>\n",
       "      <td>92.8</td>\n",
       "      <td>2.783</td>\n",
       "      <td>61.37</td>\n",
       "      <td>483.0</td>\n",
       "      <td>47.2</td>\n",
       "      <td>1.6685</td>\n",
       "    </tr>\n",
       "    <tr>\n",
       "      <td>3</td>\n",
       "      <td>2008-12-31</td>\n",
       "      <td>AA</td>\n",
       "      <td>0.5760</td>\n",
       "      <td>5.5049</td>\n",
       "      <td>8.5456</td>\n",
       "      <td>0.5760</td>\n",
       "      <td>73.8069</td>\n",
       "      <td>29181.5737</td>\n",
       "      <td>6.9</td>\n",
       "      <td>0.1</td>\n",
       "      <td>-0.8</td>\n",
       "      <td>85.1</td>\n",
       "      <td>3.352</td>\n",
       "      <td>38.62</td>\n",
       "      <td>533.0</td>\n",
       "      <td>34.5</td>\n",
       "      <td>-5.0985</td>\n",
       "    </tr>\n",
       "    <tr>\n",
       "      <td>4</td>\n",
       "      <td>2009-03-31</td>\n",
       "      <td>AA</td>\n",
       "      <td>0.4311</td>\n",
       "      <td>3.5414</td>\n",
       "      <td>12.4722</td>\n",
       "      <td>0.4311</td>\n",
       "      <td>68.3203</td>\n",
       "      <td>26350.4989</td>\n",
       "      <td>8.3</td>\n",
       "      <td>-0.4</td>\n",
       "      <td>-1.8</td>\n",
       "      <td>81.6</td>\n",
       "      <td>2.668</td>\n",
       "      <td>26.90</td>\n",
       "      <td>665.0</td>\n",
       "      <td>37.2</td>\n",
       "      <td>-4.1130</td>\n",
       "    </tr>\n",
       "  </tbody>\n",
       "</table>\n",
       "</div>"
      ],
      "text/plain": [
       "         Date Company      PE      PCF      DIV      PB   DEBTEQ      MKTVAL  \\\n",
       "0  2008-03-31      AA  1.3924  10.1850   2.6414  1.3924  53.7279  46905.2106   \n",
       "1  2008-06-30      AA  1.2993  11.5921   2.3878  1.2993  51.7124  46510.2415   \n",
       "2  2008-09-30      AA  0.8988  10.9805   3.0142  0.8988  67.2353  36279.4609   \n",
       "3  2008-12-31      AA  0.5760   5.5049   8.5456  0.5760  73.8069  29181.5737   \n",
       "4  2009-03-31      AA  0.4311   3.5414  12.4722  0.4311  68.3203  26350.4989   \n",
       "\n",
       "   Unemployment_rate  CPI  GDP CURY Index  NFIB  Financial_Stress_Index  \\\n",
       "0                5.0  4.0             3.1  90.1                   1.239   \n",
       "1                5.3  5.0             2.9  89.7                   1.080   \n",
       "2                6.0  4.9             2.1  92.8                   2.783   \n",
       "3                6.9  0.1            -0.8  85.1                   3.352   \n",
       "4                8.3 -0.4            -1.8  81.6                   2.668   \n",
       "\n",
       "   Consumer_confidence_index  Jobless_Claims  ISM_Manufacturing_index  \\\n",
       "0                      65.86           387.0                     49.7   \n",
       "1                      50.97           392.0                     49.9   \n",
       "2                      61.37           483.0                     47.2   \n",
       "3                      38.62           533.0                     34.5   \n",
       "4                      26.90           665.0                     37.2   \n",
       "\n",
       "   PM_Target  \n",
       "0   -11.9846  \n",
       "1   -10.6975  \n",
       "2     1.6685  \n",
       "3    -5.0985  \n",
       "4    -4.1130  "
      ]
     },
     "execution_count": 22,
     "metadata": {},
     "output_type": "execute_result"
    }
   ],
   "source": [
    "df.head()"
   ]
  },
  {
   "cell_type": "code",
   "execution_count": 23,
   "metadata": {},
   "outputs": [
    {
     "name": "stdout",
     "output_type": "stream",
     "text": [
      "Iteration: 0\n",
      "Iteration: 1\n"
     ]
    }
   ],
   "source": [
    "df_missing = df[col_mis_values]\n",
    "\n",
    "imputer = MissForest()\n",
    "X_imputed = imputer.fit_transform(df_missing.values)\n",
    "part1 = pd.DataFrame(data = X_imputed, columns = col_mis_values )"
   ]
  },
  {
   "cell_type": "code",
   "execution_count": 24,
   "metadata": {},
   "outputs": [
    {
     "data": {
      "text/plain": [
       "Index(['Date', 'Company', 'PE', 'PCF', 'DIV', 'PB', 'DEBTEQ', 'MKTVAL',\n",
       "       'Unemployment_rate', 'CPI', 'GDP CURY Index', 'NFIB',\n",
       "       'Financial_Stress_Index', 'Consumer_confidence_index', 'Jobless_Claims',\n",
       "       'ISM_Manufacturing_index', 'PM_Target'],\n",
       "      dtype='object')"
      ]
     },
     "execution_count": 24,
     "metadata": {},
     "output_type": "execute_result"
    }
   ],
   "source": [
    "df.columns"
   ]
  },
  {
   "cell_type": "code",
   "execution_count": 25,
   "metadata": {},
   "outputs": [],
   "source": [
    "#col_no_mis = ['Company', 'Date', 'OM_Target']\n",
    "col_no_mis = ['Company', 'Date', 'PM_Target']\n",
    "# col_no_mis = ['Company', 'Date', 'CF_Target']\n",
    "#cat_var = ['Company Name', 'Year', 'Quarter']\n",
    "part2 = df[col_no_mis].reset_index()\n",
    "df_no_miss = pd.concat([part1, part2], axis =1 )"
   ]
  },
  {
   "cell_type": "code",
   "execution_count": null,
   "metadata": {},
   "outputs": [],
   "source": []
  },
  {
   "cell_type": "code",
   "execution_count": 26,
   "metadata": {},
   "outputs": [
    {
     "data": {
      "text/plain": [
       "PE                           False\n",
       "PCF                          False\n",
       "DIV                          False\n",
       "PB                           False\n",
       "DEBTEQ                       False\n",
       "MKTVAL                       False\n",
       "Unemployment_rate            False\n",
       "CPI                          False\n",
       "GDP CURY Index               False\n",
       "NFIB                         False\n",
       "Financial_Stress_Index       False\n",
       "Consumer_confidence_index    False\n",
       "Jobless_Claims               False\n",
       "ISM_Manufacturing_index      False\n",
       "index                        False\n",
       "Company                      False\n",
       "Date                         False\n",
       "PM_Target                    False\n",
       "dtype: bool"
      ]
     },
     "execution_count": 26,
     "metadata": {},
     "output_type": "execute_result"
    }
   ],
   "source": [
    "df_no_miss.isnull().any()"
   ]
  },
  {
   "cell_type": "code",
   "execution_count": 28,
   "metadata": {},
   "outputs": [],
   "source": [
    "df_no_miss.to_csv(\"ProfitMargin_target_1_yr.csv\", index = False)"
   ]
  },
  {
   "cell_type": "code",
   "execution_count": 29,
   "metadata": {},
   "outputs": [
    {
     "data": {
      "text/html": [
       "<div>\n",
       "<style scoped>\n",
       "    .dataframe tbody tr th:only-of-type {\n",
       "        vertical-align: middle;\n",
       "    }\n",
       "\n",
       "    .dataframe tbody tr th {\n",
       "        vertical-align: top;\n",
       "    }\n",
       "\n",
       "    .dataframe thead th {\n",
       "        text-align: right;\n",
       "    }\n",
       "</style>\n",
       "<table border=\"1\" class=\"dataframe\">\n",
       "  <thead>\n",
       "    <tr style=\"text-align: right;\">\n",
       "      <th></th>\n",
       "      <th>PE</th>\n",
       "      <th>PCF</th>\n",
       "      <th>DIV</th>\n",
       "      <th>PB</th>\n",
       "      <th>DEBTEQ</th>\n",
       "      <th>MKTVAL</th>\n",
       "      <th>Unemployment_rate</th>\n",
       "      <th>CPI</th>\n",
       "      <th>GDP CURY Index</th>\n",
       "      <th>NFIB</th>\n",
       "      <th>Financial_Stress_Index</th>\n",
       "      <th>Consumer_confidence_index</th>\n",
       "      <th>Jobless_Claims</th>\n",
       "      <th>ISM_Manufacturing_index</th>\n",
       "      <th>index</th>\n",
       "      <th>Company</th>\n",
       "      <th>Date</th>\n",
       "      <th>PM_Target</th>\n",
       "    </tr>\n",
       "  </thead>\n",
       "  <tbody>\n",
       "    <tr>\n",
       "      <td>0</td>\n",
       "      <td>1.3924</td>\n",
       "      <td>10.1850</td>\n",
       "      <td>2.6414</td>\n",
       "      <td>1.3924</td>\n",
       "      <td>53.7279</td>\n",
       "      <td>46905.2106</td>\n",
       "      <td>5.0</td>\n",
       "      <td>4.0</td>\n",
       "      <td>3.1</td>\n",
       "      <td>90.1</td>\n",
       "      <td>1.239</td>\n",
       "      <td>65.86</td>\n",
       "      <td>387.0</td>\n",
       "      <td>49.7</td>\n",
       "      <td>0</td>\n",
       "      <td>AA</td>\n",
       "      <td>2008-03-31</td>\n",
       "      <td>-11.9846</td>\n",
       "    </tr>\n",
       "    <tr>\n",
       "      <td>1</td>\n",
       "      <td>1.2993</td>\n",
       "      <td>11.5921</td>\n",
       "      <td>2.3878</td>\n",
       "      <td>1.2993</td>\n",
       "      <td>51.7124</td>\n",
       "      <td>46510.2415</td>\n",
       "      <td>5.3</td>\n",
       "      <td>5.0</td>\n",
       "      <td>2.9</td>\n",
       "      <td>89.7</td>\n",
       "      <td>1.080</td>\n",
       "      <td>50.97</td>\n",
       "      <td>392.0</td>\n",
       "      <td>49.9</td>\n",
       "      <td>1</td>\n",
       "      <td>AA</td>\n",
       "      <td>2008-06-30</td>\n",
       "      <td>-10.6975</td>\n",
       "    </tr>\n",
       "    <tr>\n",
       "      <td>2</td>\n",
       "      <td>0.8988</td>\n",
       "      <td>10.9805</td>\n",
       "      <td>3.0142</td>\n",
       "      <td>0.8988</td>\n",
       "      <td>67.2353</td>\n",
       "      <td>36279.4609</td>\n",
       "      <td>6.0</td>\n",
       "      <td>4.9</td>\n",
       "      <td>2.1</td>\n",
       "      <td>92.8</td>\n",
       "      <td>2.783</td>\n",
       "      <td>61.37</td>\n",
       "      <td>483.0</td>\n",
       "      <td>47.2</td>\n",
       "      <td>2</td>\n",
       "      <td>AA</td>\n",
       "      <td>2008-09-30</td>\n",
       "      <td>1.6685</td>\n",
       "    </tr>\n",
       "    <tr>\n",
       "      <td>3</td>\n",
       "      <td>0.5760</td>\n",
       "      <td>5.5049</td>\n",
       "      <td>8.5456</td>\n",
       "      <td>0.5760</td>\n",
       "      <td>73.8069</td>\n",
       "      <td>29181.5737</td>\n",
       "      <td>6.9</td>\n",
       "      <td>0.1</td>\n",
       "      <td>-0.8</td>\n",
       "      <td>85.1</td>\n",
       "      <td>3.352</td>\n",
       "      <td>38.62</td>\n",
       "      <td>533.0</td>\n",
       "      <td>34.5</td>\n",
       "      <td>3</td>\n",
       "      <td>AA</td>\n",
       "      <td>2008-12-31</td>\n",
       "      <td>-5.0985</td>\n",
       "    </tr>\n",
       "    <tr>\n",
       "      <td>4</td>\n",
       "      <td>0.4311</td>\n",
       "      <td>3.5414</td>\n",
       "      <td>12.4722</td>\n",
       "      <td>0.4311</td>\n",
       "      <td>68.3203</td>\n",
       "      <td>26350.4989</td>\n",
       "      <td>8.3</td>\n",
       "      <td>-0.4</td>\n",
       "      <td>-1.8</td>\n",
       "      <td>81.6</td>\n",
       "      <td>2.668</td>\n",
       "      <td>26.90</td>\n",
       "      <td>665.0</td>\n",
       "      <td>37.2</td>\n",
       "      <td>4</td>\n",
       "      <td>AA</td>\n",
       "      <td>2009-03-31</td>\n",
       "      <td>-4.1130</td>\n",
       "    </tr>\n",
       "  </tbody>\n",
       "</table>\n",
       "</div>"
      ],
      "text/plain": [
       "       PE      PCF      DIV      PB   DEBTEQ      MKTVAL  Unemployment_rate  \\\n",
       "0  1.3924  10.1850   2.6414  1.3924  53.7279  46905.2106                5.0   \n",
       "1  1.2993  11.5921   2.3878  1.2993  51.7124  46510.2415                5.3   \n",
       "2  0.8988  10.9805   3.0142  0.8988  67.2353  36279.4609                6.0   \n",
       "3  0.5760   5.5049   8.5456  0.5760  73.8069  29181.5737                6.9   \n",
       "4  0.4311   3.5414  12.4722  0.4311  68.3203  26350.4989                8.3   \n",
       "\n",
       "   CPI  GDP CURY Index  NFIB  Financial_Stress_Index  \\\n",
       "0  4.0             3.1  90.1                   1.239   \n",
       "1  5.0             2.9  89.7                   1.080   \n",
       "2  4.9             2.1  92.8                   2.783   \n",
       "3  0.1            -0.8  85.1                   3.352   \n",
       "4 -0.4            -1.8  81.6                   2.668   \n",
       "\n",
       "   Consumer_confidence_index  Jobless_Claims  ISM_Manufacturing_index  index  \\\n",
       "0                      65.86           387.0                     49.7      0   \n",
       "1                      50.97           392.0                     49.9      1   \n",
       "2                      61.37           483.0                     47.2      2   \n",
       "3                      38.62           533.0                     34.5      3   \n",
       "4                      26.90           665.0                     37.2      4   \n",
       "\n",
       "  Company        Date  PM_Target  \n",
       "0      AA  2008-03-31   -11.9846  \n",
       "1      AA  2008-06-30   -10.6975  \n",
       "2      AA  2008-09-30     1.6685  \n",
       "3      AA  2008-12-31    -5.0985  \n",
       "4      AA  2009-03-31    -4.1130  "
      ]
     },
     "execution_count": 29,
     "metadata": {},
     "output_type": "execute_result"
    }
   ],
   "source": [
    "df_no_miss.head()"
   ]
  },
  {
   "cell_type": "markdown",
   "metadata": {},
   "source": [
    "### BAckward and Forward filling"
   ]
  },
  {
   "cell_type": "code",
   "execution_count": 161,
   "metadata": {},
   "outputs": [],
   "source": [
    "df_missing = df[col_mis_values]"
   ]
  },
  {
   "cell_type": "code",
   "execution_count": 162,
   "metadata": {},
   "outputs": [],
   "source": [
    "part1 = df_missing.fillna(method='ffill').fillna(method='bfill')\n",
    "#col_no_mis = ['Company', 'Date', 'OM_Target']\n",
    "col_no_mis = ['Company', 'Date', 'PM_Target']\n",
    "#col_no_mis = ['Company', 'Date', 'CF_Target']\n",
    "#cat_var = ['Company Name', 'Year', 'Quarter']\n",
    "part2 = df[col_no_mis].reset_index()\n",
    "df_no_miss = pd.concat([part1, part2], axis =1 )"
   ]
  },
  {
   "cell_type": "code",
   "execution_count": 163,
   "metadata": {},
   "outputs": [],
   "source": [
    "#df_no_miss.to_csv(\"../data1/OM_target_FB.csv\", index = False)\n",
    "df_no_miss.to_csv(\"../data1/PM_target_FB.csv\", index = False)\n",
    "#df_no_miss.to_csv(\"../data1/CF_target_FB.csv\", index = False)"
   ]
  },
  {
   "cell_type": "code",
   "execution_count": null,
   "metadata": {},
   "outputs": [],
   "source": []
  }
 ],
 "metadata": {
  "kernelspec": {
   "display_name": "Python 3",
   "language": "python",
   "name": "python3"
  },
  "language_info": {
   "codemirror_mode": {
    "name": "ipython",
    "version": 3
   },
   "file_extension": ".py",
   "mimetype": "text/x-python",
   "name": "python",
   "nbconvert_exporter": "python",
   "pygments_lexer": "ipython3",
   "version": "3.7.4"
  }
 },
 "nbformat": 4,
 "nbformat_minor": 2
}
