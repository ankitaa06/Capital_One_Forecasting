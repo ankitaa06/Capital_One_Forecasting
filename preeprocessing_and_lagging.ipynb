{
 "cells": [
  {
   "cell_type": "code",
   "execution_count": 8,
   "metadata": {},
   "outputs": [],
   "source": [
    "import pandas as pd\n",
    "import numpy as np\n",
    "import warnings\n",
    "warnings.filterwarnings(\"ignore\")"
   ]
  },
  {
   "cell_type": "code",
   "execution_count": 4,
   "metadata": {},
   "outputs": [],
   "source": [
    "macro = pd.read_excel(\"macroeco.xlsx\")"
   ]
  },
  {
   "cell_type": "code",
   "execution_count": 9,
   "metadata": {},
   "outputs": [],
   "source": [
    "PE = pd.read_excel(\"features.xlsm\", sheet_name = \"PE\")\n",
    "PCF= pd.read_excel(\"features.xlsm\", sheet_name = \"PCF\")\n",
    "DIV= pd.read_excel(\"features.xlsm\", sheet_name = \"DivYield\")\n",
    "PB= pd.read_excel(\"features.xlsm\", sheet_name = \"PB\")\n",
    "DEBTEQ= pd.read_excel(\"features.xlsm\", sheet_name = \"DebtEq\")\n",
    "MKTVAL= pd.read_excel(\"features.xlsm\", sheet_name = \"MktVal\")\n",
    "#target \n",
    "Cash_Flow = pd.read_excel(\"features.xlsm\", sheet_name = \"Cash_Flow\")\n",
    "Prof_Margin = pd.read_excel(\"features.xlsm\", sheet_name = \"PROF_MARGIN\")\n",
    "Oper_Margin = pd.read_excel(\"features.xlsm\", sheet_name = \"OPER_MARGIN\")"
   ]
  },
  {
   "cell_type": "code",
   "execution_count": 10,
   "metadata": {},
   "outputs": [],
   "source": [
    "def process(df, type_val):\n",
    "    df = df.set_index(['Unnamed: 0'])\n",
    "    df = df[df.columns[::2]]\n",
    "    df.reset_index(inplace = True)\n",
    "    df = df.rename(columns = {'Unnamed: 0' :\"index\"})\n",
    "    df.loc[0,:\"index\"] = \"2008-03-31 00:00:00\"\n",
    "    df[\"index\"] = pd.to_datetime(df[\"index\"]) \n",
    "    df = df.melt(id_vars= [\"index\"], var_name = \"Country\", value_name = \"Value\")\n",
    "    df = df.rename(columns = {'index' :\"Date\", 'Country': \"Company\", 'Value' : type_val})\n",
    "    return df\n",
    "\n",
    "PE_melt = process(PE, \"PE\")\n",
    "PCF_melt = process(PCF, \"PCF\")\n",
    "DIV_melt = process(DIV, \"DIV\")\n",
    "PB_melt = process(PB, \"PB\")\n",
    "DEBTEQ_melt = process(DEBTEQ, \"DEBTEQ\")\n",
    "MKTVAL_melt = process(MKTVAL, \"MKTVAL\")\n",
    "Cash_Flow_melt = process(Cash_Flow, \"Cash_Flow\")\n",
    "Prof_Margin_melt = process(Prof_Margin, \"Prof_Margin\")\n",
    "Oper_Margin_melt = process(Oper_Margin, \"Oper_Margin\")"
   ]
  },
  {
   "cell_type": "code",
   "execution_count": 11,
   "metadata": {},
   "outputs": [],
   "source": [
    "data_CF = PE_melt.merge(PCF_melt, on = [\"Date\", \"Company\"], how = \"outer\")\n",
    "data_CF = data_CF.merge(DIV_melt, on = [\"Date\", \"Company\"], how = \"outer\")\n",
    "data_CF = data_CF.merge(PB_melt, on = [\"Date\", \"Company\"], how = \"outer\")\n",
    "data_CF= data_CF.merge(DEBTEQ_melt, on = [\"Date\", \"Company\"], how = \"outer\")\n",
    "data_CF = data_CF.merge(MKTVAL_melt, on = [\"Date\", \"Company\"], how = \"outer\")\n",
    "data_CF = data_CF.merge(macro, on = [\"Date\"], how = \"outer\")\n",
    "data_CF = data_CF.merge(Cash_Flow_melt, on = [\"Date\", \"Company\"], how = \"outer\")\n"
   ]
  },
  {
   "cell_type": "code",
   "execution_count": 12,
   "metadata": {},
   "outputs": [],
   "source": [
    "data_PM = PE_melt.merge(PCF_melt, on = [\"Date\", \"Company\"], how = \"outer\")\n",
    "data_PM = data_PM.merge(DIV_melt, on = [\"Date\", \"Company\"], how = \"outer\")\n",
    "data_PM = data_PM.merge(PB_melt, on = [\"Date\", \"Company\"], how = \"outer\")\n",
    "data_PM= data_PM.merge(DEBTEQ_melt, on = [\"Date\", \"Company\"], how = \"outer\")\n",
    "data_PM = data_PM.merge(MKTVAL_melt, on = [\"Date\", \"Company\"], how = \"outer\")\n",
    "data_PM = data_PM.merge(macro, on = [\"Date\"], how = \"outer\")\n",
    "data_PM = data_PM.merge(Prof_Margin_melt, on = [\"Date\", \"Company\"], how = \"outer\")\n",
    "\n"
   ]
  },
  {
   "cell_type": "code",
   "execution_count": 13,
   "metadata": {},
   "outputs": [],
   "source": [
    "data_OM = PE_melt.merge(PCF_melt, on = [\"Date\", \"Company\"], how = \"outer\")\n",
    "data_OM = data_OM.merge(DIV_melt, on = [\"Date\", \"Company\"], how = \"outer\")\n",
    "data_OM = data_OM.merge(PB_melt, on = [\"Date\", \"Company\"], how = \"outer\")\n",
    "data_OM= data_OM.merge(DEBTEQ_melt, on = [\"Date\", \"Company\"], how = \"outer\")\n",
    "data_OM = data_OM.merge(MKTVAL_melt, on = [\"Date\", \"Company\"], how = \"outer\")\n",
    "data_OM = data_OM.merge(macro, on = [\"Date\"], how = \"outer\")\n",
    "data_OM = data_OM.merge(Oper_Margin_melt, on = [\"Date\", \"Company\"], how = \"outer\")"
   ]
  },
  {
   "cell_type": "code",
   "execution_count": 14,
   "metadata": {},
   "outputs": [],
   "source": [
    "# Move the data down by one quarter and add to data frame \n",
    "data_CF[\"Company\"] = data_CF[\"Company\"].astype(str)\n",
    "data_CF_moved= data_CF.sort_values(by = [\"Company\", \"Date\"]).reset_index(drop = True)\n",
    "data_CF_moved[\"CF_Target\"] = data_CF_moved.groupby([\"Company\"])[\"Cash_Flow\"].shift(-4)\n",
    "data_CF_moved  = data_CF_moved.drop([\"Cash_Flow\"],axis = 1)\n",
    "\n",
    "data_PM[\"Company\"] = data_PM[\"Company\"].astype(str)\n",
    "data_PM_moved= data_PM.sort_values(by = [\"Company\", \"Date\"]).reset_index(drop = True)\n",
    "data_PM_moved[\"PM_Target\"] = data_PM_moved.groupby([\"Company\"])[\"Prof_Margin\"].shift(-4)\n",
    "data_PM_moved  = data_PM_moved.drop([\"Prof_Margin\"],axis = 1)\n",
    "\n",
    "data_OM[\"Company\"] = data_OM[\"Company\"].astype(str)\n",
    "data_OM_moved= data_OM.sort_values(by = [\"Company\", \"Date\"]).reset_index(drop = True)\n",
    "data_OM_moved[\"OM_Target\"] = data_OM_moved.groupby([\"Company\"])[\"Oper_Margin\"].shift(-4)\n",
    "data_OM_moved  = data_OM_moved.drop([\"Oper_Margin\"],axis = 1)"
   ]
  },
  {
   "cell_type": "code",
   "execution_count": 15,
   "metadata": {},
   "outputs": [],
   "source": [
    "data_CF_moved = data_CF_moved.dropna(subset=[\"CF_Target\",\"Date\"])\n",
    "data_PM_moved = data_PM_moved.dropna(subset=[\"PM_Target\",\"Date\"])\n",
    "data_OM_moved = data_OM_moved.dropna(subset=[\"OM_Target\",\"Date\"])\n"
   ]
  },
  {
   "cell_type": "code",
   "execution_count": 16,
   "metadata": {},
   "outputs": [],
   "source": [
    "data_CF_moved.to_csv(\"CashFlow_withmissing_1yearshift.csv\")\n",
    "data_PM_moved.to_csv(\"ProfitMargin_withmissing_1yearshift.csv\")\n",
    "data_OM_moved.to_csv(\"OperMargin_withmissing_1yearshift.csv\")"
   ]
  },
  {
   "cell_type": "code",
   "execution_count": null,
   "metadata": {},
   "outputs": [],
   "source": [
    "#missing values not filled in "
   ]
  },
  {
   "cell_type": "code",
   "execution_count": null,
   "metadata": {},
   "outputs": [],
   "source": []
  },
  {
   "cell_type": "code",
   "execution_count": null,
   "metadata": {},
   "outputs": [],
   "source": []
  },
  {
   "cell_type": "code",
   "execution_count": null,
   "metadata": {},
   "outputs": [],
   "source": []
  }
 ],
 "metadata": {
  "kernelspec": {
   "display_name": "Python 3",
   "language": "python",
   "name": "python3"
  },
  "language_info": {
   "codemirror_mode": {
    "name": "ipython",
    "version": 3
   },
   "file_extension": ".py",
   "mimetype": "text/x-python",
   "name": "python",
   "nbconvert_exporter": "python",
   "pygments_lexer": "ipython3",
   "version": "3.7.4"
  }
 },
 "nbformat": 4,
 "nbformat_minor": 2
}
