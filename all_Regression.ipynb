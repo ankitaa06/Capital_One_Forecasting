{
 "cells": [
  {
   "cell_type": "code",
   "execution_count": 307,
   "metadata": {},
   "outputs": [],
   "source": [
    "import pandas as pd\n",
    "import numpy as np\n",
    "import warnings\n",
    "warnings.filterwarnings(\"ignore\")\n",
    "from sklearn.preprocessing import StandardScaler\n",
    "from sklearn.linear_model import LinearRegression\n",
    "from sklearn.metrics import mean_absolute_error"
   ]
  },
  {
   "cell_type": "code",
   "execution_count": 308,
   "metadata": {},
   "outputs": [],
   "source": [
    "OM_data = pd.read_csv(\"./OpenMargin_target.csv\")\n",
    "PM_data = pd.read_csv(\"ProfitMargin_target.csv\")\n",
    "CF_data = pd.read_csv(\"./CF_target.csv\")"
   ]
  },
  {
   "cell_type": "code",
   "execution_count": 309,
   "metadata": {},
   "outputs": [],
   "source": [
    "OM_data = OM_data.drop(['index' ,\"Date\"],axis=1)\n",
    "PM_data = PM_data.drop(['index' ,\"Date\"],axis=1)\n",
    "CF_data = CF_data.drop(['index' ,\"Date\"],axis=1)"
   ]
  },
  {
   "cell_type": "markdown",
   "metadata": {},
   "source": [
    "Convert the target into a percentage and make it a binary calssification for now "
   ]
  },
  {
   "cell_type": "code",
   "execution_count": 310,
   "metadata": {},
   "outputs": [],
   "source": [
    "OM_data_bin = OM_data\n",
    "PM_data_bin = PM_data\n",
    "CF_data_bin = CF_data\n",
    "\n",
    "OM_data_bin['Target'] = OM_data_bin.OM_Target\n",
    "PM_data_bin['Target'] = PM_data_bin.PM_Target\n",
    "CF_data_bin['Target'] = CF_data_bin.CF_Target"
   ]
  },
  {
   "cell_type": "code",
   "execution_count": 259,
   "metadata": {},
   "outputs": [],
   "source": [
    "OM_data_bin = OM_data_bin.drop(['OM_Target','Company'],axis=1)\n",
    "PM_data_bin = PM_data_bin.drop(['PM_Target','Company'],axis=1)\n",
    "CF_data_bin = CF_data_bin.drop(['CF_Target','Company'],axis=1)"
   ]
  },
  {
   "cell_type": "code",
   "execution_count": 302,
   "metadata": {},
   "outputs": [
    {
     "data": {
      "text/plain": [
       "0        False\n",
       "1        False\n",
       "2        False\n",
       "3        False\n",
       "4        False\n",
       "         ...  \n",
       "50937    False\n",
       "50938    False\n",
       "50939    False\n",
       "50940    False\n",
       "50941    False\n",
       "Name: Target, Length: 50942, dtype: bool"
      ]
     },
     "execution_count": 302,
     "metadata": {},
     "output_type": "execute_result"
    }
   ],
   "source": [
    "OM_data_bin['Target']<-100"
   ]
  },
  {
   "cell_type": "code",
   "execution_count": null,
   "metadata": {},
   "outputs": [],
   "source": []
  },
  {
   "cell_type": "markdown",
   "metadata": {},
   "source": [
    "Preprocessing our variables :\n",
    "\n",
    "1. Numeric : Standardise\n",
    "2. Company : One-hot encode"
   ]
  },
  {
   "cell_type": "code",
   "execution_count": 260,
   "metadata": {},
   "outputs": [],
   "source": [
    "from sklearn.compose import ColumnTransformer\n",
    "from sklearn.pipeline import Pipeline\n",
    "from sklearn.impute import SimpleImputer\n",
    "from sklearn.preprocessing import StandardScaler, OneHotEncoder\n",
    "from sklearn.linear_model import LogisticRegression\n",
    "from sklearn.model_selection import train_test_split, GridSearchCV\n",
    "from sklearn.metrics import classification_report\n",
    "from sklearn.metrics import accuracy_score\n",
    "from sklearn.tree import DecisionTreeClassifier\n",
    "from sklearn.naive_bayes import GaussianNB\n",
    "from sklearn.discriminant_analysis import LinearDiscriminantAnalysis\n",
    "from sklearn.discriminant_analysis import QuadraticDiscriminantAnalysis\n",
    "from sklearn.neighbors import KNeighborsClassifier\n",
    "from sklearn.svm import SVC, LinearSVC, NuSVC"
   ]
  },
  {
   "cell_type": "markdown",
   "metadata": {},
   "source": [
    "## Operating Margin - Binary Classification"
   ]
  },
  {
   "cell_type": "code",
   "execution_count": 321,
   "metadata": {},
   "outputs": [],
   "source": [
    "PM_data_1 = PM_data_bin[PM_data_bin[\"PM_Target\"] >= -100]\n",
    "PM_data_2 = PM_data_bin[PM_data_bin[\"PM_Target\"] <= 100]\n",
    "PM_removed_outliers= pd.merge(PM_data_1, PM_data_2, how='inner')\n"
   ]
  },
  {
   "cell_type": "code",
   "execution_count": 322,
   "metadata": {},
   "outputs": [
    {
     "data": {
      "text/plain": [
       "PE                           float64\n",
       "PCF                          float64\n",
       "DIV                          float64\n",
       "PB                           float64\n",
       "DEBTEQ                       float64\n",
       "MKTVAL                       float64\n",
       "Unemployment_rate            float64\n",
       "CPI                          float64\n",
       "GDP CURY Index               float64\n",
       "NFIB                         float64\n",
       "Financial_Stress_Index       float64\n",
       "Consumer_confidence_index    float64\n",
       "Jobless_Claims               float64\n",
       "ISM_Manufacturing_index      float64\n",
       "Company                       object\n",
       "PM_Target                    float64\n",
       "dtype: object"
      ]
     },
     "execution_count": 322,
     "metadata": {},
     "output_type": "execute_result"
    }
   ],
   "source": [
    "y_data = PM_removed_outliers[['Target']]\n",
    "X_data = PM_removed_outliers.drop(['Target'],axis = 1)\n",
    "\n",
    "# X_train, X_test, y_train, y_test = train_test_split(X_data, y_data, test_size=0.2)\n",
    "X_train = X_data[:40000]\n",
    "X_test = X_data[40000:]\n",
    "y_train = y_data[:40000]\n",
    "y_test = y_data[40000:]\n",
    "\n",
    "X_train.dtypes"
   ]
  },
  {
   "cell_type": "code",
   "execution_count": 323,
   "metadata": {},
   "outputs": [
    {
     "name": "stdout",
     "output_type": "stream",
     "text": [
      "40000\n",
      "9025\n"
     ]
    }
   ],
   "source": [
    "print(len(X_train))\n",
    "print(len(X_test))"
   ]
  },
  {
   "cell_type": "code",
   "execution_count": 324,
   "metadata": {},
   "outputs": [],
   "source": [
    "# scale target in training data\n",
    "\n",
    "scaler = StandardScaler()\n",
    "mean_train_y = np.mean(y_train)\n",
    "std_train_y = np.std(y_train)\n",
    "y_train = scaler.fit_transform(y_train)\n",
    "# y_test = scaler.fit_transform(y_test)"
   ]
  },
  {
   "cell_type": "code",
   "execution_count": 326,
   "metadata": {},
   "outputs": [],
   "source": [
    "numeric_features = ['PE', 'PCF' ,'DIV' , 'PB','DEBTEQ' , 'MKTVAL' ,'Unemployment_rate' , 'CPI','GDP CURY Index', 'NFIB','Financial_Stress_Index','Consumer_confidence_index','Jobless_Claims','ISM_Manufacturing_index']\n",
    "#categorical_features = ['company']"
   ]
  },
  {
   "cell_type": "code",
   "execution_count": 327,
   "metadata": {},
   "outputs": [],
   "source": [
    "numeric_transformer = Pipeline(steps=[\n",
    "    ('scaler', StandardScaler())])\n",
    "#categorical_transformer = Pipeline(steps=[\n",
    "    #('onehot', OneHotEncoder(handle_unknown='ignore'))])\n"
   ]
  },
  {
   "cell_type": "code",
   "execution_count": 328,
   "metadata": {},
   "outputs": [],
   "source": [
    "\n",
    "preprocessor = ColumnTransformer(\n",
    "    transformers=[\n",
    "        ('num', numeric_transformer, numeric_features)])\n",
    "        #('cat', categorical_transformer, categorical_features)])"
   ]
  },
  {
   "cell_type": "markdown",
   "metadata": {},
   "source": [
    "Regression Models with scores:\n",
    "\n",
    "1. LinearRegression \n"
   ]
  },
  {
   "cell_type": "code",
   "execution_count": 334,
   "metadata": {
    "scrolled": true
   },
   "outputs": [
    {
     "name": "stdout",
     "output_type": "stream",
     "text": [
      "mean_absolute_error : \n",
      "113.76244786295597\n"
     ]
    }
   ],
   "source": [
    "linear_regression = Pipeline(steps=[('preprocessor', preprocessor),\n",
    "                      ('regressor', LinearRegression())])\n",
    "linear_regression.fit(X_train, y_train)\n",
    "y_pred = linear_regression.predict(X_test)\n",
    "y_pred_transformed = (y_pred.flatten() + mean_train_y.values[0] )*std_train_y.values[0]\n",
    "print(\"mean_absolute_error : \" )\n",
    "print(mean_absolute_error(y_test, y_pred_transformed))\n"
   ]
  },
  {
   "cell_type": "markdown",
   "metadata": {},
   "source": [
    "Grading Boosting Regressor"
   ]
  },
  {
   "cell_type": "code",
   "execution_count": 333,
   "metadata": {},
   "outputs": [
    {
     "name": "stdout",
     "output_type": "stream",
     "text": [
      "mean_absolute_error : \n",
      "13.59689334319191\n"
     ]
    }
   ],
   "source": [
    "from sklearn.ensemble.gradient_boosting import GradientBoostingRegressor\n",
    "from sklearn.model_selection import GridSearchCV\n",
    "\n",
    "gb = Pipeline(steps=[('preprocessor', preprocessor),\n",
    "                      ('regressor', GradientBoostingRegressor(learning_rate=0.001,n_estimators = 25,max_depth=10,min_samples_split = 20))])\n",
    "gb.fit(X_train, y_train)\n",
    "y_pred = gb.predict(X_test)\n",
    "y_pred_transformed = (y_pred.flatten() + mean_train_y.values[0] )*std_train_y.values[0]\n",
    "print(\"mean_absolute_error : \" )\n",
    "print(mean_absolute_error(y_test, y_pred))\n"
   ]
  },
  {
   "cell_type": "markdown",
   "metadata": {},
   "source": [
    "Decision Tree "
   ]
  },
  {
   "cell_type": "code",
   "execution_count": 336,
   "metadata": {},
   "outputs": [
    {
     "name": "stdout",
     "output_type": "stream",
     "text": [
      "mean_absolute_error : \n",
      "13.510468004396303\n"
     ]
    }
   ],
   "source": [
    "from sklearn.tree import DecisionTreeRegressor\n",
    "decision_tree = Pipeline(steps=[('preprocessor', preprocessor),\n",
    "                      ('regressor', DecisionTreeRegressor())])\n",
    "decision_tree.fit(X_train, y_train)\n",
    "y_pred = decision_tree.predict(X_test)\n",
    "y_pred_transformed = (y_pred.flatten() + mean_train_y.values[0] )*std_train_y.values[0]\n",
    "print(\"mean_absolute_error : \" )\n",
    "print(mean_absolute_error(y_test, y_pred))\n"
   ]
  },
  {
   "cell_type": "markdown",
   "metadata": {},
   "source": [
    "Ada Boost"
   ]
  },
  {
   "cell_type": "code",
   "execution_count": 341,
   "metadata": {},
   "outputs": [
    {
     "name": "stdout",
     "output_type": "stream",
     "text": [
      "mean_absolute_error : \n",
      "13.604009653759503\n"
     ]
    }
   ],
   "source": [
    "from sklearn.ensemble import AdaBoostRegressor\n",
    "nn = Pipeline(steps=[('preprocessor', preprocessor),\n",
    "                      ('regressor', AdaBoostRegressor(random_state=0, n_estimators=100))])\n",
    "nn.fit(X_train, y_train)\n",
    "y_pred = nn.predict(X_test)\n",
    "y_pred_transformed = (y_pred.flatten() + mean_train_y.values[0] )*std_train_y.values[0]\n",
    "print(\"mean_absolute_error : \" )\n",
    "print(mean_absolute_error(y_test, y_pred))"
   ]
  },
  {
   "cell_type": "code",
   "execution_count": 348,
   "metadata": {},
   "outputs": [
    {
     "name": "stdout",
     "output_type": "stream",
     "text": [
      "mean_absolute_error : \n",
      "13.609124719652282\n"
     ]
    }
   ],
   "source": [
    "from sklearn.linear_model import Ridge\n",
    "sgd = Pipeline(steps=[('preprocessor', preprocessor),\n",
    "                      ('classifier', Ridge())])\n",
    "sgd.fit(X_train, y_train)\n",
    "y_pred = sgd.predict(X_test)\n",
    "y_pred_transformed = (y_pred.flatten() + mean_train_y.values[0] )*std_train_y.values[0]\n",
    "print(\"mean_absolute_error : \" )\n",
    "print(mean_absolute_error(y_test, y_pred))"
   ]
  },
  {
   "cell_type": "code",
   "execution_count": 354,
   "metadata": {},
   "outputs": [
    {
     "name": "stdout",
     "output_type": "stream",
     "text": [
      "==============================\n",
      "LinearRegression\n",
      "****Results****\n",
      "mean_absolute_error : \n",
      "13.609124719652282\n",
      "==============================\n",
      "GradientBoostingRegressor\n",
      "****Results****\n",
      "mean_absolute_error : \n",
      "13.609124719652282\n",
      "==============================\n",
      "DecisionTreeRegressor\n",
      "****Results****\n",
      "mean_absolute_error : \n",
      "13.609124719652282\n",
      "==============================\n",
      "AdaBoostRegressor\n",
      "****Results****\n",
      "mean_absolute_error : \n",
      "13.609124719652282\n",
      "==============================\n",
      "Ridge\n",
      "****Results****\n",
      "mean_absolute_error : \n",
      "13.609124719652282\n",
      "==============================\n"
     ]
    }
   ],
   "source": [
    "regressors = [\n",
    "    LinearRegression(),\n",
    "    GradientBoostingRegressor(learning_rate=0.001,n_estimators = 25,max_depth=10,min_samples_split = 20),\n",
    "    DecisionTreeRegressor(),\n",
    "    AdaBoostRegressor(random_state=0, n_estimators=100),\n",
    "    Ridge()]\n",
    "\n",
    "\n",
    "for clf in regressors:\n",
    "    nn= Pipeline(steps=[('preprocessor', preprocessor),\n",
    "                      ('regressor', clf)])\n",
    "    nn.fit(X_train, y_train)\n",
    "  \n",
    "    name = clf.__class__.__name__\n",
    "    \n",
    "    print(\"=\"*30)\n",
    "    print(name)\n",
    "    \n",
    "    print('****Results****')\n",
    "    train_predictions = nn.predict(X_test)\n",
    "    y_pred_transformed = (train_predictions.flatten() + mean_train_y.values[0] )*std_train_y.values[0]\n",
    "    print(\"mean_absolute_error : \" )\n",
    "    print(mean_absolute_error(y_test, y_pred))\n",
    "    \n",
    "print(\"=\"*30)"
   ]
  },
  {
   "cell_type": "code",
   "execution_count": null,
   "metadata": {},
   "outputs": [],
   "source": []
  },
  {
   "cell_type": "code",
   "execution_count": null,
   "metadata": {},
   "outputs": [],
   "source": []
  }
 ],
 "metadata": {
  "kernelspec": {
   "display_name": "Python 3",
   "language": "python",
   "name": "python3"
  },
  "language_info": {
   "codemirror_mode": {
    "name": "ipython",
    "version": 3
   },
   "file_extension": ".py",
   "mimetype": "text/x-python",
   "name": "python",
   "nbconvert_exporter": "python",
   "pygments_lexer": "ipython3",
   "version": "3.7.4"
  }
 },
 "nbformat": 4,
 "nbformat_minor": 2
}
