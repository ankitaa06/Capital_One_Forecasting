{
 "cells": [
  {
   "cell_type": "code",
   "execution_count": 72,
   "metadata": {},
   "outputs": [],
   "source": [
    "import pandas as pd\n",
    "import matplotlib.pyplot as plt\n",
    "import numpy as np\n",
    "import warnings\n",
    "warnings.filterwarnings('ignore')\n",
    "from sklearn.model_selection import train_test_split\n",
    "from sklearn.linear_model import LinearRegression\n",
    "from sklearn.model_selection import  cross_val_score\n",
    "from sklearn.compose import make_column_transformer\n",
    "from sklearn.preprocessing import OneHotEncoder\n",
    "from sklearn.pipeline import make_pipeline\n",
    "from sklearn.compose import ColumnTransformer\n",
    "from sklearn.pipeline import Pipeline\n",
    "from sklearn.impute import SimpleImputer\n",
    "from sklearn.preprocessing import StandardScaler, OneHotEncoder\n",
    "from sklearn.linear_model import Ridge,Lasso,ElasticNet\n",
    "from sklearn.model_selection import GridSearchCV\n",
    "\n"
   ]
  },
  {
   "cell_type": "code",
   "execution_count": 120,
   "metadata": {},
   "outputs": [],
   "source": [
    "df = pd.read_csv('CF_target.csv')"
   ]
  },
  {
   "cell_type": "code",
   "execution_count": 121,
   "metadata": {},
   "outputs": [
    {
     "data": {
      "text/html": [
       "<div>\n",
       "<style scoped>\n",
       "    .dataframe tbody tr th:only-of-type {\n",
       "        vertical-align: middle;\n",
       "    }\n",
       "\n",
       "    .dataframe tbody tr th {\n",
       "        vertical-align: top;\n",
       "    }\n",
       "\n",
       "    .dataframe thead th {\n",
       "        text-align: right;\n",
       "    }\n",
       "</style>\n",
       "<table border=\"1\" class=\"dataframe\">\n",
       "  <thead>\n",
       "    <tr style=\"text-align: right;\">\n",
       "      <th></th>\n",
       "      <th>PE</th>\n",
       "      <th>PCF</th>\n",
       "      <th>DIV</th>\n",
       "      <th>PB</th>\n",
       "      <th>DEBTEQ</th>\n",
       "      <th>MKTVAL</th>\n",
       "      <th>Unemployment_rate</th>\n",
       "      <th>CPI</th>\n",
       "      <th>GDP CURY Index</th>\n",
       "      <th>NFIB</th>\n",
       "      <th>Financial_Stress_Index</th>\n",
       "      <th>Consumer_confidence_index</th>\n",
       "      <th>Jobless_Claims</th>\n",
       "      <th>ISM_Manufacturing_index</th>\n",
       "      <th>index</th>\n",
       "      <th>Company</th>\n",
       "      <th>Date</th>\n",
       "      <th>CF_Target</th>\n",
       "    </tr>\n",
       "  </thead>\n",
       "  <tbody>\n",
       "    <tr>\n",
       "      <td>0</td>\n",
       "      <td>1.3924</td>\n",
       "      <td>10.1850</td>\n",
       "      <td>2.6414</td>\n",
       "      <td>1.3924</td>\n",
       "      <td>53.7279</td>\n",
       "      <td>46905.2106</td>\n",
       "      <td>5.0</td>\n",
       "      <td>4.0</td>\n",
       "      <td>3.1</td>\n",
       "      <td>90.1</td>\n",
       "      <td>1.239</td>\n",
       "      <td>65.86</td>\n",
       "      <td>387.0</td>\n",
       "      <td>49.7</td>\n",
       "      <td>0</td>\n",
       "      <td>AA</td>\n",
       "      <td>2008-03-31</td>\n",
       "      <td>180.0</td>\n",
       "    </tr>\n",
       "    <tr>\n",
       "      <td>1</td>\n",
       "      <td>1.2993</td>\n",
       "      <td>11.5921</td>\n",
       "      <td>2.3878</td>\n",
       "      <td>1.2993</td>\n",
       "      <td>51.7124</td>\n",
       "      <td>46510.2415</td>\n",
       "      <td>5.3</td>\n",
       "      <td>5.0</td>\n",
       "      <td>2.9</td>\n",
       "      <td>89.7</td>\n",
       "      <td>1.080</td>\n",
       "      <td>50.97</td>\n",
       "      <td>392.0</td>\n",
       "      <td>49.9</td>\n",
       "      <td>1</td>\n",
       "      <td>AA</td>\n",
       "      <td>2008-06-30</td>\n",
       "      <td>-939.0</td>\n",
       "    </tr>\n",
       "  </tbody>\n",
       "</table>\n",
       "</div>"
      ],
      "text/plain": [
       "       PE      PCF     DIV      PB   DEBTEQ      MKTVAL  Unemployment_rate  \\\n",
       "0  1.3924  10.1850  2.6414  1.3924  53.7279  46905.2106                5.0   \n",
       "1  1.2993  11.5921  2.3878  1.2993  51.7124  46510.2415                5.3   \n",
       "\n",
       "   CPI  GDP CURY Index  NFIB  Financial_Stress_Index  \\\n",
       "0  4.0             3.1  90.1                   1.239   \n",
       "1  5.0             2.9  89.7                   1.080   \n",
       "\n",
       "   Consumer_confidence_index  Jobless_Claims  ISM_Manufacturing_index  index  \\\n",
       "0                      65.86           387.0                     49.7      0   \n",
       "1                      50.97           392.0                     49.9      1   \n",
       "\n",
       "  Company        Date  CF_Target  \n",
       "0      AA  2008-03-31      180.0  \n",
       "1      AA  2008-06-30     -939.0  "
      ]
     },
     "execution_count": 121,
     "metadata": {},
     "output_type": "execute_result"
    }
   ],
   "source": [
    "df.head(2)"
   ]
  },
  {
   "cell_type": "code",
   "execution_count": 122,
   "metadata": {},
   "outputs": [],
   "source": [
    "df.index = df.Date"
   ]
  },
  {
   "cell_type": "code",
   "execution_count": 123,
   "metadata": {},
   "outputs": [
    {
     "data": {
      "text/html": [
       "<div>\n",
       "<style scoped>\n",
       "    .dataframe tbody tr th:only-of-type {\n",
       "        vertical-align: middle;\n",
       "    }\n",
       "\n",
       "    .dataframe tbody tr th {\n",
       "        vertical-align: top;\n",
       "    }\n",
       "\n",
       "    .dataframe thead th {\n",
       "        text-align: right;\n",
       "    }\n",
       "</style>\n",
       "<table border=\"1\" class=\"dataframe\">\n",
       "  <thead>\n",
       "    <tr style=\"text-align: right;\">\n",
       "      <th></th>\n",
       "      <th>PE</th>\n",
       "      <th>PCF</th>\n",
       "      <th>DIV</th>\n",
       "      <th>PB</th>\n",
       "      <th>DEBTEQ</th>\n",
       "      <th>MKTVAL</th>\n",
       "      <th>Unemployment_rate</th>\n",
       "      <th>CPI</th>\n",
       "      <th>GDP CURY Index</th>\n",
       "      <th>NFIB</th>\n",
       "      <th>Financial_Stress_Index</th>\n",
       "      <th>Consumer_confidence_index</th>\n",
       "      <th>Jobless_Claims</th>\n",
       "      <th>ISM_Manufacturing_index</th>\n",
       "      <th>index</th>\n",
       "      <th>Company</th>\n",
       "    </tr>\n",
       "    <tr>\n",
       "      <th>Date</th>\n",
       "      <th></th>\n",
       "      <th></th>\n",
       "      <th></th>\n",
       "      <th></th>\n",
       "      <th></th>\n",
       "      <th></th>\n",
       "      <th></th>\n",
       "      <th></th>\n",
       "      <th></th>\n",
       "      <th></th>\n",
       "      <th></th>\n",
       "      <th></th>\n",
       "      <th></th>\n",
       "      <th></th>\n",
       "      <th></th>\n",
       "      <th></th>\n",
       "    </tr>\n",
       "  </thead>\n",
       "  <tbody>\n",
       "    <tr>\n",
       "      <td>2008-03-31</td>\n",
       "      <td>1.3924</td>\n",
       "      <td>10.1850</td>\n",
       "      <td>2.6414</td>\n",
       "      <td>1.3924</td>\n",
       "      <td>53.7279</td>\n",
       "      <td>46905.2106</td>\n",
       "      <td>5.0</td>\n",
       "      <td>4.0</td>\n",
       "      <td>3.1</td>\n",
       "      <td>90.1</td>\n",
       "      <td>1.239</td>\n",
       "      <td>65.86</td>\n",
       "      <td>387.0</td>\n",
       "      <td>49.7</td>\n",
       "      <td>0</td>\n",
       "      <td>AA</td>\n",
       "    </tr>\n",
       "    <tr>\n",
       "      <td>2008-06-30</td>\n",
       "      <td>1.2993</td>\n",
       "      <td>11.5921</td>\n",
       "      <td>2.3878</td>\n",
       "      <td>1.2993</td>\n",
       "      <td>51.7124</td>\n",
       "      <td>46510.2415</td>\n",
       "      <td>5.3</td>\n",
       "      <td>5.0</td>\n",
       "      <td>2.9</td>\n",
       "      <td>89.7</td>\n",
       "      <td>1.080</td>\n",
       "      <td>50.97</td>\n",
       "      <td>392.0</td>\n",
       "      <td>49.9</td>\n",
       "      <td>1</td>\n",
       "      <td>AA</td>\n",
       "    </tr>\n",
       "  </tbody>\n",
       "</table>\n",
       "</div>"
      ],
      "text/plain": [
       "                PE      PCF     DIV      PB   DEBTEQ      MKTVAL  \\\n",
       "Date                                                               \n",
       "2008-03-31  1.3924  10.1850  2.6414  1.3924  53.7279  46905.2106   \n",
       "2008-06-30  1.2993  11.5921  2.3878  1.2993  51.7124  46510.2415   \n",
       "\n",
       "            Unemployment_rate  CPI  GDP CURY Index  NFIB  \\\n",
       "Date                                                       \n",
       "2008-03-31                5.0  4.0             3.1  90.1   \n",
       "2008-06-30                5.3  5.0             2.9  89.7   \n",
       "\n",
       "            Financial_Stress_Index  Consumer_confidence_index  Jobless_Claims  \\\n",
       "Date                                                                            \n",
       "2008-03-31                   1.239                      65.86           387.0   \n",
       "2008-06-30                   1.080                      50.97           392.0   \n",
       "\n",
       "            ISM_Manufacturing_index  index Company  \n",
       "Date                                                \n",
       "2008-03-31                     49.7      0      AA  \n",
       "2008-06-30                     49.9      1      AA  "
      ]
     },
     "execution_count": 123,
     "metadata": {},
     "output_type": "execute_result"
    }
   ],
   "source": [
    "# remove target variable\n",
    "df.iloc[:,:-2].head(2)"
   ]
  },
  {
   "cell_type": "code",
   "execution_count": 124,
   "metadata": {},
   "outputs": [],
   "source": [
    "df_X = df.iloc[:,:-2]"
   ]
  },
  {
   "cell_type": "code",
   "execution_count": 125,
   "metadata": {},
   "outputs": [
    {
     "data": {
      "text/html": [
       "<div>\n",
       "<style scoped>\n",
       "    .dataframe tbody tr th:only-of-type {\n",
       "        vertical-align: middle;\n",
       "    }\n",
       "\n",
       "    .dataframe tbody tr th {\n",
       "        vertical-align: top;\n",
       "    }\n",
       "\n",
       "    .dataframe thead th {\n",
       "        text-align: right;\n",
       "    }\n",
       "</style>\n",
       "<table border=\"1\" class=\"dataframe\">\n",
       "  <thead>\n",
       "    <tr style=\"text-align: right;\">\n",
       "      <th></th>\n",
       "      <th>PE</th>\n",
       "      <th>PCF</th>\n",
       "      <th>DIV</th>\n",
       "      <th>PB</th>\n",
       "      <th>DEBTEQ</th>\n",
       "      <th>MKTVAL</th>\n",
       "      <th>Unemployment_rate</th>\n",
       "      <th>CPI</th>\n",
       "      <th>GDP CURY Index</th>\n",
       "      <th>NFIB</th>\n",
       "      <th>Financial_Stress_Index</th>\n",
       "      <th>Consumer_confidence_index</th>\n",
       "      <th>Jobless_Claims</th>\n",
       "      <th>ISM_Manufacturing_index</th>\n",
       "      <th>index</th>\n",
       "      <th>Company</th>\n",
       "    </tr>\n",
       "    <tr>\n",
       "      <th>Date</th>\n",
       "      <th></th>\n",
       "      <th></th>\n",
       "      <th></th>\n",
       "      <th></th>\n",
       "      <th></th>\n",
       "      <th></th>\n",
       "      <th></th>\n",
       "      <th></th>\n",
       "      <th></th>\n",
       "      <th></th>\n",
       "      <th></th>\n",
       "      <th></th>\n",
       "      <th></th>\n",
       "      <th></th>\n",
       "      <th></th>\n",
       "      <th></th>\n",
       "    </tr>\n",
       "  </thead>\n",
       "  <tbody>\n",
       "    <tr>\n",
       "      <td>2008-03-31</td>\n",
       "      <td>1.3924</td>\n",
       "      <td>10.1850</td>\n",
       "      <td>2.6414</td>\n",
       "      <td>1.3924</td>\n",
       "      <td>53.7279</td>\n",
       "      <td>46905.2106</td>\n",
       "      <td>5.0</td>\n",
       "      <td>4.0</td>\n",
       "      <td>3.1</td>\n",
       "      <td>90.1</td>\n",
       "      <td>1.239</td>\n",
       "      <td>65.86</td>\n",
       "      <td>387.0</td>\n",
       "      <td>49.7</td>\n",
       "      <td>0</td>\n",
       "      <td>AA</td>\n",
       "    </tr>\n",
       "    <tr>\n",
       "      <td>2008-06-30</td>\n",
       "      <td>1.2993</td>\n",
       "      <td>11.5921</td>\n",
       "      <td>2.3878</td>\n",
       "      <td>1.2993</td>\n",
       "      <td>51.7124</td>\n",
       "      <td>46510.2415</td>\n",
       "      <td>5.3</td>\n",
       "      <td>5.0</td>\n",
       "      <td>2.9</td>\n",
       "      <td>89.7</td>\n",
       "      <td>1.080</td>\n",
       "      <td>50.97</td>\n",
       "      <td>392.0</td>\n",
       "      <td>49.9</td>\n",
       "      <td>1</td>\n",
       "      <td>AA</td>\n",
       "    </tr>\n",
       "  </tbody>\n",
       "</table>\n",
       "</div>"
      ],
      "text/plain": [
       "                PE      PCF     DIV      PB   DEBTEQ      MKTVAL  \\\n",
       "Date                                                               \n",
       "2008-03-31  1.3924  10.1850  2.6414  1.3924  53.7279  46905.2106   \n",
       "2008-06-30  1.2993  11.5921  2.3878  1.2993  51.7124  46510.2415   \n",
       "\n",
       "            Unemployment_rate  CPI  GDP CURY Index  NFIB  \\\n",
       "Date                                                       \n",
       "2008-03-31                5.0  4.0             3.1  90.1   \n",
       "2008-06-30                5.3  5.0             2.9  89.7   \n",
       "\n",
       "            Financial_Stress_Index  Consumer_confidence_index  Jobless_Claims  \\\n",
       "Date                                                                            \n",
       "2008-03-31                   1.239                      65.86           387.0   \n",
       "2008-06-30                   1.080                      50.97           392.0   \n",
       "\n",
       "            ISM_Manufacturing_index  index Company  \n",
       "Date                                                \n",
       "2008-03-31                     49.7      0      AA  \n",
       "2008-06-30                     49.9      1      AA  "
      ]
     },
     "execution_count": 125,
     "metadata": {},
     "output_type": "execute_result"
    }
   ],
   "source": [
    "df_X.head(2)"
   ]
  },
  {
   "cell_type": "code",
   "execution_count": 126,
   "metadata": {},
   "outputs": [],
   "source": [
    "df_Y = df.iloc[:,-1]"
   ]
  },
  {
   "cell_type": "code",
   "execution_count": 127,
   "metadata": {
    "scrolled": true
   },
   "outputs": [
    {
     "data": {
      "text/plain": [
       "Date\n",
       "2008-03-31    180.0\n",
       "2008-06-30   -939.0\n",
       "Name: CF_Target, dtype: float64"
      ]
     },
     "execution_count": 127,
     "metadata": {},
     "output_type": "execute_result"
    }
   ],
   "source": [
    "df_Y.head(2)"
   ]
  },
  {
   "cell_type": "code",
   "execution_count": 128,
   "metadata": {},
   "outputs": [
    {
     "data": {
      "text/plain": [
       "Index(['PE', 'PCF', 'DIV', 'PB', 'DEBTEQ', 'MKTVAL', 'Unemployment_rate',\n",
       "       'CPI', 'GDP CURY Index', 'NFIB', 'Financial_Stress_Index',\n",
       "       'Consumer_confidence_index', 'Jobless_Claims',\n",
       "       'ISM_Manufacturing_index', 'index'],\n",
       "      dtype='object')"
      ]
     },
     "execution_count": 128,
     "metadata": {},
     "output_type": "execute_result"
    }
   ],
   "source": [
    "df_X.iloc[:,:-1].columns"
   ]
  },
  {
   "cell_type": "code",
   "execution_count": 129,
   "metadata": {},
   "outputs": [
    {
     "data": {
      "text/plain": [
       "(50472, 15)"
      ]
     },
     "execution_count": 129,
     "metadata": {},
     "output_type": "execute_result"
    }
   ],
   "source": [
    "# remove company column\n",
    "(df_X.iloc[:,:-1]).shape"
   ]
  },
  {
   "cell_type": "code",
   "execution_count": 130,
   "metadata": {},
   "outputs": [
    {
     "data": {
      "text/html": [
       "<div>\n",
       "<style scoped>\n",
       "    .dataframe tbody tr th:only-of-type {\n",
       "        vertical-align: middle;\n",
       "    }\n",
       "\n",
       "    .dataframe tbody tr th {\n",
       "        vertical-align: top;\n",
       "    }\n",
       "\n",
       "    .dataframe thead th {\n",
       "        text-align: right;\n",
       "    }\n",
       "</style>\n",
       "<table border=\"1\" class=\"dataframe\">\n",
       "  <thead>\n",
       "    <tr style=\"text-align: right;\">\n",
       "      <th></th>\n",
       "      <th>PE</th>\n",
       "      <th>PCF</th>\n",
       "      <th>DIV</th>\n",
       "      <th>PB</th>\n",
       "      <th>DEBTEQ</th>\n",
       "      <th>MKTVAL</th>\n",
       "      <th>Unemployment_rate</th>\n",
       "      <th>CPI</th>\n",
       "      <th>GDP CURY Index</th>\n",
       "      <th>NFIB</th>\n",
       "      <th>Financial_Stress_Index</th>\n",
       "      <th>Consumer_confidence_index</th>\n",
       "      <th>Jobless_Claims</th>\n",
       "      <th>ISM_Manufacturing_index</th>\n",
       "      <th>index</th>\n",
       "    </tr>\n",
       "    <tr>\n",
       "      <th>Date</th>\n",
       "      <th></th>\n",
       "      <th></th>\n",
       "      <th></th>\n",
       "      <th></th>\n",
       "      <th></th>\n",
       "      <th></th>\n",
       "      <th></th>\n",
       "      <th></th>\n",
       "      <th></th>\n",
       "      <th></th>\n",
       "      <th></th>\n",
       "      <th></th>\n",
       "      <th></th>\n",
       "      <th></th>\n",
       "      <th></th>\n",
       "    </tr>\n",
       "  </thead>\n",
       "  <tbody>\n",
       "    <tr>\n",
       "      <td>2008-03-31</td>\n",
       "      <td>1.3924</td>\n",
       "      <td>10.1850</td>\n",
       "      <td>2.6414</td>\n",
       "      <td>1.3924</td>\n",
       "      <td>53.7279</td>\n",
       "      <td>46905.2106</td>\n",
       "      <td>5.0</td>\n",
       "      <td>4.0</td>\n",
       "      <td>3.1</td>\n",
       "      <td>90.1</td>\n",
       "      <td>1.239</td>\n",
       "      <td>65.86</td>\n",
       "      <td>387.0</td>\n",
       "      <td>49.7</td>\n",
       "      <td>0</td>\n",
       "    </tr>\n",
       "    <tr>\n",
       "      <td>2008-06-30</td>\n",
       "      <td>1.2993</td>\n",
       "      <td>11.5921</td>\n",
       "      <td>2.3878</td>\n",
       "      <td>1.2993</td>\n",
       "      <td>51.7124</td>\n",
       "      <td>46510.2415</td>\n",
       "      <td>5.3</td>\n",
       "      <td>5.0</td>\n",
       "      <td>2.9</td>\n",
       "      <td>89.7</td>\n",
       "      <td>1.080</td>\n",
       "      <td>50.97</td>\n",
       "      <td>392.0</td>\n",
       "      <td>49.9</td>\n",
       "      <td>1</td>\n",
       "    </tr>\n",
       "    <tr>\n",
       "      <td>2008-09-30</td>\n",
       "      <td>0.8988</td>\n",
       "      <td>10.9805</td>\n",
       "      <td>3.0142</td>\n",
       "      <td>0.8988</td>\n",
       "      <td>67.2353</td>\n",
       "      <td>36279.4609</td>\n",
       "      <td>6.0</td>\n",
       "      <td>4.9</td>\n",
       "      <td>2.1</td>\n",
       "      <td>92.8</td>\n",
       "      <td>2.783</td>\n",
       "      <td>61.37</td>\n",
       "      <td>483.0</td>\n",
       "      <td>47.2</td>\n",
       "      <td>2</td>\n",
       "    </tr>\n",
       "  </tbody>\n",
       "</table>\n",
       "</div>"
      ],
      "text/plain": [
       "                PE      PCF     DIV      PB   DEBTEQ      MKTVAL  \\\n",
       "Date                                                               \n",
       "2008-03-31  1.3924  10.1850  2.6414  1.3924  53.7279  46905.2106   \n",
       "2008-06-30  1.2993  11.5921  2.3878  1.2993  51.7124  46510.2415   \n",
       "2008-09-30  0.8988  10.9805  3.0142  0.8988  67.2353  36279.4609   \n",
       "\n",
       "            Unemployment_rate  CPI  GDP CURY Index  NFIB  \\\n",
       "Date                                                       \n",
       "2008-03-31                5.0  4.0             3.1  90.1   \n",
       "2008-06-30                5.3  5.0             2.9  89.7   \n",
       "2008-09-30                6.0  4.9             2.1  92.8   \n",
       "\n",
       "            Financial_Stress_Index  Consumer_confidence_index  Jobless_Claims  \\\n",
       "Date                                                                            \n",
       "2008-03-31                   1.239                      65.86           387.0   \n",
       "2008-06-30                   1.080                      50.97           392.0   \n",
       "2008-09-30                   2.783                      61.37           483.0   \n",
       "\n",
       "            ISM_Manufacturing_index  index  \n",
       "Date                                        \n",
       "2008-03-31                     49.7      0  \n",
       "2008-06-30                     49.9      1  \n",
       "2008-09-30                     47.2      2  "
      ]
     },
     "execution_count": 130,
     "metadata": {},
     "output_type": "execute_result"
    }
   ],
   "source": [
    "df_X.iloc[:,:-1].head(3)"
   ]
  },
  {
   "cell_type": "code",
   "execution_count": 131,
   "metadata": {},
   "outputs": [],
   "source": [
    "scaler = StandardScaler()"
   ]
  },
  {
   "cell_type": "code",
   "execution_count": 132,
   "metadata": {},
   "outputs": [
    {
     "data": {
      "text/plain": [
       "array([[-1.18144454e-02, -2.33098760e-02,  1.76696529e-01, ...,\n",
       "        -5.07067792e-02, -8.27842999e-01, -1.73197577e+00],\n",
       "       [-1.19940076e-02, -2.19939181e-02,  1.18115826e-01, ...,\n",
       "        -1.61311102e-03, -7.79732693e-01, -1.73190714e+00],\n",
       "       [-1.27664528e-02, -2.25659029e-02,  2.62812012e-01, ...,\n",
       "         8.91891651e-01, -1.42922183e+00, -1.73183851e+00],\n",
       "       ...,\n",
       "       [ 1.56714896e-02,  6.28951280e-02, -4.33457535e-01, ...,\n",
       "         6.78825131e-01,  2.73401915e-01,  1.73191463e+00],\n",
       "       [ 1.05849233e-02,  4.17302078e-02, -4.33457535e-01, ...,\n",
       "        -1.58242923e+00,  2.78694049e-01,  1.73198326e+00],\n",
       "       [ 1.01270494e-02,  4.45022869e-02, -4.33457535e-01, ...,\n",
       "         6.78825131e-01,  2.73401915e-01,  1.73205189e+00]])"
      ]
     },
     "execution_count": 132,
     "metadata": {},
     "output_type": "execute_result"
    }
   ],
   "source": [
    "train_X = scaler.fit_transform(df_X.iloc[:,:-1])\n",
    "train_X "
   ]
  },
  {
   "cell_type": "code",
   "execution_count": 133,
   "metadata": {},
   "outputs": [
    {
     "data": {
      "text/plain": [
       "(50472, 15)"
      ]
     },
     "execution_count": 133,
     "metadata": {},
     "output_type": "execute_result"
    }
   ],
   "source": [
    "train_X.shape"
   ]
  },
  {
   "cell_type": "code",
   "execution_count": 134,
   "metadata": {},
   "outputs": [
    {
     "data": {
      "text/plain": [
       "array([[1., 0., 0., ..., 0., 0., 0.],\n",
       "       [1., 0., 0., ..., 0., 0., 0.],\n",
       "       [1., 0., 0., ..., 0., 0., 0.],\n",
       "       ...,\n",
       "       [0., 0., 0., ..., 0., 0., 1.],\n",
       "       [0., 0., 0., ..., 0., 0., 1.],\n",
       "       [0., 0., 0., ..., 0., 0., 1.]])"
      ]
     },
     "execution_count": 134,
     "metadata": {},
     "output_type": "execute_result"
    }
   ],
   "source": [
    "ohe = OneHotEncoder().fit(df_X[['Company']])\n",
    "ohe_array = ohe.transform(df_X[['Company']]).toarray()\n",
    "ohe_array"
   ]
  },
  {
   "cell_type": "code",
   "execution_count": 135,
   "metadata": {},
   "outputs": [
    {
     "data": {
      "text/plain": [
       "(50472, 1343)"
      ]
     },
     "execution_count": 135,
     "metadata": {},
     "output_type": "execute_result"
    }
   ],
   "source": [
    "ohe_array.shape"
   ]
  },
  {
   "cell_type": "code",
   "execution_count": 136,
   "metadata": {},
   "outputs": [
    {
     "data": {
      "text/plain": [
       "array([[-0.01181445, -0.02330988,  0.17669653, ...,  0.        ,\n",
       "         0.        ,  0.        ],\n",
       "       [-0.01199401, -0.02199392,  0.11811583, ...,  0.        ,\n",
       "         0.        ,  0.        ],\n",
       "       [-0.01276645, -0.0225659 ,  0.26281201, ...,  0.        ,\n",
       "         0.        ,  0.        ],\n",
       "       ...,\n",
       "       [ 0.01567149,  0.06289513, -0.43345754, ...,  0.        ,\n",
       "         0.        ,  1.        ],\n",
       "       [ 0.01058492,  0.04173021, -0.43345754, ...,  0.        ,\n",
       "         0.        ,  1.        ],\n",
       "       [ 0.01012705,  0.04450229, -0.43345754, ...,  0.        ,\n",
       "         0.        ,  1.        ]])"
      ]
     },
     "execution_count": 136,
     "metadata": {},
     "output_type": "execute_result"
    }
   ],
   "source": [
    "X_train = np.concatenate([train_X, ohe_array],axis=1)\n",
    "X_train"
   ]
  },
  {
   "cell_type": "code",
   "execution_count": 137,
   "metadata": {},
   "outputs": [
    {
     "data": {
      "text/plain": [
       "(50472, 1358)"
      ]
     },
     "execution_count": 137,
     "metadata": {},
     "output_type": "execute_result"
    }
   ],
   "source": [
    "X_train.shape"
   ]
  },
  {
   "cell_type": "code",
   "execution_count": 138,
   "metadata": {
    "scrolled": false
   },
   "outputs": [
    {
     "data": {
      "text/plain": [
       "array([ 180.   , -939.   , -409.   , ...,   -9.78 ,   -3.838,  -11.512])"
      ]
     },
     "execution_count": 138,
     "metadata": {},
     "output_type": "execute_result"
    }
   ],
   "source": [
    "Y_train = df_Y.values\n",
    "Y_train"
   ]
  },
  {
   "cell_type": "code",
   "execution_count": 139,
   "metadata": {},
   "outputs": [],
   "source": [
    "X_t, X_v, y_t, y_v= train_test_split(X_train, Y_train, test_size=0.2, random_state=42)"
   ]
  },
  {
   "cell_type": "code",
   "execution_count": null,
   "metadata": {},
   "outputs": [],
   "source": []
  },
  {
   "cell_type": "code",
   "execution_count": 140,
   "metadata": {},
   "outputs": [],
   "source": [
    "X_t = X_t.reshape((X_t.shape[0], 1, X_t.shape[1]))\n",
    "X_v = X_v.reshape((X_v.shape[0], 1, X_v.shape[1]))"
   ]
  },
  {
   "cell_type": "code",
   "execution_count": 141,
   "metadata": {},
   "outputs": [],
   "source": [
    "y_t = y_t.reshape(-1, 1)\n",
    "y_v = y_v.reshape(-1, 1)"
   ]
  },
  {
   "cell_type": "code",
   "execution_count": 142,
   "metadata": {},
   "outputs": [],
   "source": [
    "# scale y\n",
    "from sklearn.preprocessing import StandardScaler\n",
    "scaler = StandardScaler()\n",
    "y_t = scaler.fit_transform(y_t)\n",
    "y_v = scaler.fit_transform(y_v)"
   ]
  },
  {
   "cell_type": "code",
   "execution_count": null,
   "metadata": {},
   "outputs": [],
   "source": []
  },
  {
   "cell_type": "code",
   "execution_count": 143,
   "metadata": {},
   "outputs": [
    {
     "data": {
      "text/plain": [
       "(40377, 1, 1358)"
      ]
     },
     "execution_count": 143,
     "metadata": {},
     "output_type": "execute_result"
    }
   ],
   "source": [
    "X_t.shape"
   ]
  },
  {
   "cell_type": "code",
   "execution_count": null,
   "metadata": {},
   "outputs": [],
   "source": []
  },
  {
   "cell_type": "code",
   "execution_count": 146,
   "metadata": {},
   "outputs": [
    {
     "name": "stdout",
     "output_type": "stream",
     "text": [
      "Train on 40377 samples, validate on 10095 samples\n",
      "Epoch 1/15\n",
      " - 10s - loss: 0.1207 - accuracy: 0.0000e+00 - val_loss: 0.1023 - val_accuracy: 0.0000e+00\n",
      "Epoch 2/15\n",
      " - 9s - loss: 0.1136 - accuracy: 0.0000e+00 - val_loss: 0.0994 - val_accuracy: 0.0000e+00\n",
      "Epoch 3/15\n",
      " - 9s - loss: 0.1113 - accuracy: 0.0000e+00 - val_loss: 0.0972 - val_accuracy: 0.0000e+00\n",
      "Epoch 4/15\n",
      " - 9s - loss: 0.1089 - accuracy: 0.0000e+00 - val_loss: 0.0955 - val_accuracy: 0.0000e+00\n",
      "Epoch 5/15\n",
      " - 9s - loss: 0.1067 - accuracy: 0.0000e+00 - val_loss: 0.0947 - val_accuracy: 0.0000e+00\n",
      "Epoch 6/15\n",
      " - 9s - loss: 0.1063 - accuracy: 0.0000e+00 - val_loss: 0.0940 - val_accuracy: 0.0000e+00\n",
      "Epoch 7/15\n",
      " - 9s - loss: 0.1061 - accuracy: 0.0000e+00 - val_loss: 0.0942 - val_accuracy: 0.0000e+00\n",
      "Epoch 8/15\n",
      " - 9s - loss: 0.1046 - accuracy: 0.0000e+00 - val_loss: 0.0946 - val_accuracy: 0.0000e+00\n",
      "Epoch 9/15\n",
      " - 9s - loss: 0.1039 - accuracy: 0.0000e+00 - val_loss: 0.0949 - val_accuracy: 0.0000e+00\n",
      "Epoch 10/15\n",
      " - 9s - loss: 0.1041 - accuracy: 0.0000e+00 - val_loss: 0.0941 - val_accuracy: 0.0000e+00\n",
      "Epoch 11/15\n",
      " - 9s - loss: 0.1028 - accuracy: 0.0000e+00 - val_loss: 0.0941 - val_accuracy: 0.0000e+00\n",
      "Epoch 12/15\n",
      " - 9s - loss: 0.1034 - accuracy: 0.0000e+00 - val_loss: 0.0939 - val_accuracy: 0.0000e+00\n",
      "Epoch 13/15\n",
      " - 9s - loss: 0.1012 - accuracy: 0.0000e+00 - val_loss: 0.0940 - val_accuracy: 0.0000e+00\n",
      "Epoch 14/15\n",
      " - 10s - loss: 0.1026 - accuracy: 0.0000e+00 - val_loss: 0.0937 - val_accuracy: 0.0000e+00\n",
      "Epoch 15/15\n",
      " - 9s - loss: 0.1018 - accuracy: 0.0000e+00 - val_loss: 0.0935 - val_accuracy: 0.0000e+00\n"
     ]
    },
    {
     "data": {
      "image/png": "[encoded data removed]",
      "text/plain": [
       "<Figure size 432x288 with 1 Axes>"
      ]
     },
     "metadata": {
      "needs_background": "light"
     },
     "output_type": "display_data"
    }
   ],
   "source": [
    "import keras\n",
    "from keras.models import Sequential\n",
    "from keras.layers import Dense\n",
    "from keras.layers import LSTM\n",
    "from keras import regularizers\n",
    "# design network\n",
    "model = Sequential()\n",
    "model.add(LSTM(32, input_shape=(X_t.shape[1], X_t.shape[2]),dropout=0.2))\n",
    "model.add(Dense(1))\n",
    "model.compile(loss='mae', optimizer='adam',metrics=['accuracy'])\n",
    "# fit network\n",
    "history = model.fit(X_t, y_t, epochs=15, batch_size=50, validation_data=(X_v, y_v), verbose=2, shuffle=False)\n",
    "# plot history\n",
    "pyplot.plot(history.history['loss'], label='train')\n",
    "pyplot.plot(history.history['val_loss'], label='test')\n",
    "pyplot.legend()\n",
    "pyplot.show()"
   ]
  },
  {
   "cell_type": "code",
   "execution_count": 147,
   "metadata": {},
   "outputs": [
    {
     "ename": "KeyError",
     "evalue": "'mae'",
     "output_type": "error",
     "traceback": [
      "\u001b[0;31m---------------------------------------------------------------------------\u001b[0m",
      "\u001b[0;31mKeyError\u001b[0m                                  Traceback (most recent call last)",
      "\u001b[0;32m<ipython-input-147-054921da34ad>\u001b[0m in \u001b[0;36m<module>\u001b[0;34m\u001b[0m\n\u001b[1;32m      1\u001b[0m \u001b[0;32mfrom\u001b[0m \u001b[0mmatplotlib\u001b[0m \u001b[0;32mimport\u001b[0m \u001b[0mpyplot\u001b[0m\u001b[0;34m\u001b[0m\u001b[0;34m\u001b[0m\u001b[0m\n\u001b[0;32m----> 2\u001b[0;31m \u001b[0mpyplot\u001b[0m\u001b[0;34m.\u001b[0m\u001b[0mplot\u001b[0m\u001b[0;34m(\u001b[0m\u001b[0mhistory\u001b[0m\u001b[0;34m.\u001b[0m\u001b[0mhistory\u001b[0m\u001b[0;34m[\u001b[0m\u001b[0;34m'mae'\u001b[0m\u001b[0;34m]\u001b[0m\u001b[0;34m,\u001b[0m \u001b[0mlabel\u001b[0m\u001b[0;34m=\u001b[0m\u001b[0;34m'train'\u001b[0m\u001b[0;34m)\u001b[0m\u001b[0;34m\u001b[0m\u001b[0;34m\u001b[0m\u001b[0m\n\u001b[0m\u001b[1;32m      3\u001b[0m \u001b[0mpyplot\u001b[0m\u001b[0;34m.\u001b[0m\u001b[0mplot\u001b[0m\u001b[0;34m(\u001b[0m\u001b[0mhistory\u001b[0m\u001b[0;34m.\u001b[0m\u001b[0mhistory\u001b[0m\u001b[0;34m[\u001b[0m\u001b[0;34m'val_mae'\u001b[0m\u001b[0;34m]\u001b[0m\u001b[0;34m,\u001b[0m \u001b[0mlabel\u001b[0m\u001b[0;34m=\u001b[0m\u001b[0;34m'test'\u001b[0m\u001b[0;34m)\u001b[0m\u001b[0;34m\u001b[0m\u001b[0;34m\u001b[0m\u001b[0m\n\u001b[1;32m      4\u001b[0m \u001b[0mpyplot\u001b[0m\u001b[0;34m.\u001b[0m\u001b[0mlegend\u001b[0m\u001b[0;34m(\u001b[0m\u001b[0;34m)\u001b[0m\u001b[0;34m\u001b[0m\u001b[0;34m\u001b[0m\u001b[0m\n\u001b[1;32m      5\u001b[0m \u001b[0mpyplot\u001b[0m\u001b[0;34m.\u001b[0m\u001b[0mshow\u001b[0m\u001b[0;34m(\u001b[0m\u001b[0;34m)\u001b[0m\u001b[0;34m\u001b[0m\u001b[0;34m\u001b[0m\u001b[0m\n",
      "\u001b[0;31mKeyError\u001b[0m: 'mae'"
     ]
    }
   ],
   "source": [
    "from matplotlib import pyplot\n",
    "pyplot.plot(history.history['mae'], label='train')\n",
    "pyplot.plot(history.history['val_mae'], label='test')\n",
    "pyplot.legend()\n",
    "pyplot.show()"
   ]
  },
  {
   "cell_type": "code",
   "execution_count": null,
   "metadata": {},
   "outputs": [],
   "source": []
  }
 ],
 "metadata": {
  "kernelspec": {
   "display_name": "Python 3",
   "language": "python",
   "name": "python3"
  },
  "language_info": {
   "codemirror_mode": {
    "name": "ipython",
    "version": 3
   },
   "file_extension": ".py",
   "mimetype": "text/x-python",
   "name": "python",
   "nbconvert_exporter": "python",
   "pygments_lexer": "ipython3",
   "version": "3.7.4"
  }
 },
 "nbformat": 4,
 "nbformat_minor": 2
}
